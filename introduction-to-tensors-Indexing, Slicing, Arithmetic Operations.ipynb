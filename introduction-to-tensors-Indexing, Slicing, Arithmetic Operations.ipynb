{
 "cells": [
  {
   "cell_type": "markdown",
   "metadata": {
    "colab_type": "text",
    "id": "view-in-github"
   },
   "source": [
    "<a href=\"https://colab.research.google.com/github/dphi-official/Deep_Learning_Bootcamp/blob/master/Tensor_Operations/DL_Day3_Optional.ipynb\" target=\"_parent\"><img src=\"https://colab.research.google.com/assets/colab-badge.svg\" alt=\"Open In Colab\"/></a>"
   ]
  },
  {
   "cell_type": "markdown",
   "metadata": {
    "colab_type": "text",
    "id": "qFdPvlXBOdUN"
   },
   "source": [
    "# Introduction to Tensors"
   ]
  },
  {
   "cell_type": "code",
   "execution_count": null,
   "metadata": {
    "colab": {},
    "colab_type": "code",
    "id": "AL2hzxorJiWy"
   },
   "outputs": [],
   "source": [
    "import tensorflow as tf\n",
    "import numpy as np"
   ]
  },
  {
   "cell_type": "markdown",
   "metadata": {
    "colab_type": "text",
    "id": "VQ3s2J8Vgowq"
   },
   "source": [
    "Tensors are multi-dimensional arrays with a uniform type (called a `dtype`).  You can see all supported `dtypes` at `tf.dtypes.DType`.\n",
    "\n",
    "If you're familiar with [NumPy](https://numpy.org/devdocs/user/quickstart.html), tensors are (kind of) like `np.arrays`.\n",
    "\n",
    "All tensors are immutable like Python numbers and strings: you can never update the contents of a tensor, only create a new one.\n"
   ]
  },
  {
   "cell_type": "markdown",
   "metadata": {
    "colab_type": "text",
    "id": "DRK5-9EpYbzG"
   },
   "source": [
    "## Basics\n",
    "\n",
    "Before creating basic tensors, let's understand some basics. "
   ]
  },
  {
   "cell_type": "markdown",
   "metadata": {
    "colab_type": "text",
    "id": "gC1tqBu7MFAP"
   },
   "source": [
    "### Scalar, Vector, Matrix 101\n",
    "\n",
    "\n",
    "![tensor.jpeg](data:image/jpeg;base64,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)\n",
    "\n",
    "* A scalar is a single number\n",
    "* A vector is an array of numbers.\n",
    "* A matrix is a 2-D array\n",
    "* A tensor is a n-dimensional array with n >2\n",
    "\n"
   ]
  },
  {
   "cell_type": "markdown",
   "metadata": {
    "colab_type": "text",
    "id": "uCdFTl7gZOx8"
   },
   "source": [
    "###  Understanding Dimension - Rank - Axes - Shape - Indexes\n",
    "\n",
    "Dimension: Let’s take an example of box to explain this. A simple box three dimensions width, length and depth (or height). Similarly, in data science we working “N” dimensional datasets. “N” could be any number.\n",
    "\n",
    "\n",
    "Indexes: \n",
    "\n",
    "\n",
    "Rank:\n",
    "\n",
    "\n",
    "The rank of a tensor refers to the number of dimensions present within the tensor.\n",
    "\n"
   ]
  },
  {
   "cell_type": "markdown",
   "metadata": {
    "colab_type": "text",
    "id": "uSHRFT6LJbxq"
   },
   "source": [
    "### Scalar  - Rank 0 Tensor\n",
    "A scalar contains a single value, and no \"axes\"."
   ]
  },
  {
   "cell_type": "code",
   "execution_count": null,
   "metadata": {
    "colab": {
     "base_uri": "https://localhost:8080/",
     "height": 33
    },
    "colab_type": "code",
    "id": "d5JcgLFR6gHv",
    "outputId": "60b2446a-9024-45de-850e-4644a0ec797a"
   },
   "outputs": [
    {
     "name": "stdout",
     "output_type": "stream",
     "text": [
      "tf.Tensor(4, shape=(), dtype=int32)\n"
     ]
    }
   ],
   "source": [
    "# This will be an int32 tensor by default; see \"dtypes\" below.\n",
    "rank_0_tensor = tf.constant(4)\n",
    "print(rank_0_tensor)"
   ]
  },
  {
   "cell_type": "markdown",
   "metadata": {
    "colab_type": "text",
    "id": "tdmPAn9fWYs5"
   },
   "source": [
    "### Vector - Rank 1 Tensor\n",
    "A \"vector\" or \"rank-1\" tensor is like a list of values. A vector has 1-axis:"
   ]
  },
  {
   "cell_type": "code",
   "execution_count": null,
   "metadata": {
    "colab": {
     "base_uri": "https://localhost:8080/",
     "height": 34
    },
    "colab_type": "code",
    "id": "oZos8o_R6oE7",
    "outputId": "4de40dcd-a2b3-4048-97e2-19107d93f272"
   },
   "outputs": [
    {
     "name": "stdout",
     "output_type": "stream",
     "text": [
      "tf.Tensor([2. 3. 4.], shape=(3,), dtype=float32)\n"
     ]
    }
   ],
   "source": [
    "# Let's make this a float tensor.\n",
    "rank_1_tensor = tf.constant([2.0, 3.0, 4.0])\n",
    "print(rank_1_tensor)"
   ]
  },
  {
   "cell_type": "markdown",
   "metadata": {
    "colab_type": "text",
    "id": "G3IJG-ug_H4u"
   },
   "source": [
    "### Matrix - Rank 2 Tensor\n",
    "A \"matrix\" or \"rank-2\" tensor has 2-axes:"
   ]
  },
  {
   "cell_type": "code",
   "execution_count": null,
   "metadata": {
    "colab": {
     "base_uri": "https://localhost:8080/",
     "height": 85
    },
    "colab_type": "code",
    "id": "cnOIA_xb6u0M",
    "outputId": "2e096331-dd80-40d7-d39f-50f02e82f817"
   },
   "outputs": [
    {
     "name": "stdout",
     "output_type": "stream",
     "text": [
      "tf.Tensor(\n",
      "[[1. 2.]\n",
      " [3. 4.]\n",
      " [5. 6.]], shape=(3, 2), dtype=float16)\n"
     ]
    }
   ],
   "source": [
    "# If we want to be specific, we can set the dtype (see below) at creation time\n",
    "rank_2_tensor = tf.constant([[1, 2],\n",
    "                             [3, 4],\n",
    "                             [5, 6]], dtype=tf.float16)\n",
    "print(rank_2_tensor)"
   ]
  },
  {
   "cell_type": "markdown",
   "metadata": {
    "colab_type": "text",
    "id": "19m72qEPkfxi"
   },
   "source": [
    "<table>\n",
    "<tr>\n",
    "  <th>A scalar, shape: <code>[]</code></th>\n",
    "  <th>A vector, shape: <code>[3]</code></th>\n",
    "  <th>A matrix, shape: <code>[3, 2]</code></th>\n",
    "</tr>\n",
    "<tr>\n",
    "  <td>\n",
    "   <img src=\"https://github.com/tensorflow/docs/blob/master/site/en/guide/images/tensor/scalar.png?raw=1\" alt=\"A scalar, the number 4\" />\n",
    "  </td>\n",
    "\n",
    "  <td>\n",
    "   <img src=\"https://github.com/tensorflow/docs/blob/master/site/en/guide/images/tensor/vector.png?raw=1\" alt=\"The line with 3 sections, each one containing a number.\"/>\n",
    "  </td>\n",
    "  <td>\n",
    "   <img src=\"https://github.com/tensorflow/docs/blob/master/site/en/guide/images/tensor/matrix.png?raw=1\" alt=\"A 3x2 grid, with each cell containing a number.\">\n",
    "  </td>\n",
    "</tr>\n",
    "</table>\n"
   ]
  },
  {
   "cell_type": "markdown",
   "metadata": {
    "colab_type": "text",
    "id": "fjFvzcn4_ehD"
   },
   "source": [
    "### Tensors with 3 axes - Rank 3 Tensor\n",
    "Tensors may have more axes, here is a tensor with 3-axes:"
   ]
  },
  {
   "cell_type": "code",
   "execution_count": null,
   "metadata": {
    "colab": {
     "base_uri": "https://localhost:8080/",
     "height": 170
    },
    "colab_type": "code",
    "id": "sesW7gw6JkXy",
    "outputId": "a0bed56e-4a43-4d7a-e484-dea2f25ae0c5"
   },
   "outputs": [
    {
     "name": "stdout",
     "output_type": "stream",
     "text": [
      "tf.Tensor(\n",
      "[[[ 0  1  2  3  4]\n",
      "  [ 5  6  7  8  9]]\n",
      "\n",
      " [[10 11 12 13 14]\n",
      "  [15 16 17 18 19]]\n",
      "\n",
      " [[20 21 22 23 24]\n",
      "  [25 26 27 28 29]]], shape=(3, 2, 5), dtype=int32)\n"
     ]
    }
   ],
   "source": [
    "# There can be an arbitrary number of\n",
    "# axes (sometimes called \"dimensions\")\n",
    "rank_3_tensor = tf.constant([\n",
    "                            [[0, 1, 2, 3, 4],\n",
    "                            [5, 6, 7, 8, 9]],\n",
    "                            [[10, 11, 12, 13, 14],\n",
    "                            [15, 16, 17, 18, 19]],\n",
    "                            [[20, 21, 22, 23, 24],\n",
    "                            [25, 26, 27, 28, 29]],])\n",
    "\n",
    "print(rank_3_tensor)"
   ]
  },
  {
   "cell_type": "markdown",
   "metadata": {
    "colab_type": "text",
    "id": "rM2sTGIkoE3S"
   },
   "source": [
    "There are many ways you might visualize a tensor with more than 2-axes."
   ]
  },
  {
   "cell_type": "markdown",
   "metadata": {
    "colab_type": "text",
    "id": "NFiYfNMMhDgL"
   },
   "source": [
    "<table>\n",
    "<tr>\n",
    "  <th colspan=3>A 3-axis tensor, shape: <code>[3, 2, 5]</code></th>\n",
    "<tr>\n",
    "<tr>\n",
    "  <td>\n",
    "   <img src=\"https://github.com/tensorflow/docs/blob/master/site/en/guide/images/tensor/3-axis_numpy.png?raw=1\"/>\n",
    "  </td>\n",
    "  <td>\n",
    "   <img src=\"https://github.com/tensorflow/docs/blob/master/site/en/guide/images/tensor/3-axis_front.png?raw=1\"/>\n",
    "  </td>\n",
    "\n",
    "  <td>\n",
    "   <img src=\"https://github.com/tensorflow/docs/blob/master/site/en/guide/images/tensor/3-axis_block.png?raw=1\"/>\n",
    "  </td>\n",
    "</tr>\n",
    "\n",
    "</table>"
   ]
  },
  {
   "cell_type": "markdown",
   "metadata": {
    "colab_type": "text",
    "id": "oWAc0U8OZwNb"
   },
   "source": [
    "## Tensor to Numpy Array\n",
    "You can convert a tensor to a NumPy array either using `np.array` or the `tensor.numpy` method:"
   ]
  },
  {
   "cell_type": "code",
   "execution_count": null,
   "metadata": {
    "colab": {
     "base_uri": "https://localhost:8080/",
     "height": 68
    },
    "colab_type": "code",
    "id": "J5u6_6ZYaS7B",
    "outputId": "13d101a3-c9e4-48d2-c1d5-238d49c43e8d"
   },
   "outputs": [
    {
     "data": {
      "text/plain": [
       "array([[1., 2.],\n",
       "       [3., 4.],\n",
       "       [5., 6.]], dtype=float16)"
      ]
     },
     "execution_count": 6,
     "metadata": {
      "tags": []
     },
     "output_type": "execute_result"
    }
   ],
   "source": [
    "np.array(rank_2_tensor)"
   ]
  },
  {
   "cell_type": "code",
   "execution_count": null,
   "metadata": {
    "colab": {
     "base_uri": "https://localhost:8080/",
     "height": 68
    },
    "colab_type": "code",
    "id": "c6Taz2gIaZeo",
    "outputId": "23a64ad6-79fb-4f79-b9e7-24195cefe009"
   },
   "outputs": [
    {
     "data": {
      "text/plain": [
       "array([[1., 2.],\n",
       "       [3., 4.],\n",
       "       [5., 6.]], dtype=float16)"
      ]
     },
     "execution_count": 7,
     "metadata": {
      "tags": []
     },
     "output_type": "execute_result"
    }
   ],
   "source": [
    "rank_2_tensor.numpy()"
   ]
  },
  {
   "cell_type": "markdown",
   "metadata": {
    "colab_type": "text",
    "id": "hnz19F0ocEKD"
   },
   "source": [
    "## Other types of Tensors\n",
    "Tensors often contain floats and ints, but have many other types, including:\n",
    "\n",
    "* complex numbers\n",
    "* strings\n",
    "\n",
    "The base `tf.Tensor` class requires tensors to be \"rectangular\"---that is, along each axis, every element is the same size.  However, there are specialized types of tensors that can handle different shapes:\n",
    "\n",
    "* Ragged tensors (see [RaggedTensor](#ragged_tensors) below)\n",
    "* Sparse tensors (see [SparseTensor](#sparse_tensors) below)"
   ]
  },
  {
   "cell_type": "markdown",
   "metadata": {
    "colab_type": "text",
    "id": "SDC7OGeAIJr8"
   },
   "source": [
    "## Maths on Tensors\n",
    "We can do basic math on tensors, including addition, element-wise multiplication, and matrix multiplication."
   ]
  },
  {
   "cell_type": "code",
   "execution_count": null,
   "metadata": {
    "colab": {
     "base_uri": "https://localhost:8080/",
     "height": 221
    },
    "colab_type": "code",
    "id": "-DTkjwDOIIDa",
    "outputId": "354e2232-c3ad-4de3-9bf8-52b24d6ee16c"
   },
   "outputs": [
    {
     "name": "stdout",
     "output_type": "stream",
     "text": [
      "tf.Tensor(\n",
      "[[2 3]\n",
      " [4 5]], shape=(2, 2), dtype=int32) \n",
      "\n",
      "tf.Tensor(\n",
      "[[1 2]\n",
      " [3 4]], shape=(2, 2), dtype=int32) \n",
      "\n",
      "tf.Tensor(\n",
      "[[3 3]\n",
      " [7 7]], shape=(2, 2), dtype=int32) \n",
      "\n"
     ]
    }
   ],
   "source": [
    "a = tf.constant([[1, 2],\n",
    "                 [3, 4]])\n",
    "b = tf.constant([[1, 1],\n",
    "                 [1, 1]]) # Could have also said `tf.ones([2,2])`\n",
    "\n",
    "print(tf.add(a, b), \"\\n\")\n",
    "print(tf.multiply(a, b), \"\\n\")\n",
    "print(tf.matmul(a, b), \"\\n\")"
   ]
  },
  {
   "cell_type": "code",
   "execution_count": null,
   "metadata": {
    "colab": {
     "base_uri": "https://localhost:8080/",
     "height": 221
    },
    "colab_type": "code",
    "id": "2smoWeUz-N2q",
    "outputId": "81e42bd3-bd8a-4b5c-9ba8-d1849bc6184a"
   },
   "outputs": [
    {
     "name": "stdout",
     "output_type": "stream",
     "text": [
      "tf.Tensor(\n",
      "[[2 3]\n",
      " [4 5]], shape=(2, 2), dtype=int32) \n",
      "\n",
      "tf.Tensor(\n",
      "[[1 2]\n",
      " [3 4]], shape=(2, 2), dtype=int32) \n",
      "\n",
      "tf.Tensor(\n",
      "[[3 3]\n",
      " [7 7]], shape=(2, 2), dtype=int32) \n",
      "\n"
     ]
    }
   ],
   "source": [
    "print(a + b, \"\\n\") # element-wise addition\n",
    "print(a * b, \"\\n\") # element-wise multiplication\n",
    "print(a @ b, \"\\n\") # matrix multiplication"
   ]
  },
  {
   "cell_type": "markdown",
   "metadata": {
    "colab_type": "text",
    "id": "NvSAbowVVuRr"
   },
   "source": [
    "## About shapes"
   ]
  },
  {
   "cell_type": "markdown",
   "metadata": {
    "colab_type": "text",
    "id": "hkaBIqkTCcGY"
   },
   "source": [
    "Tensors have shapes.  Some vocabulary:\n",
    "\n",
    "* **Shape**: The length (number of elements) of each of the dimensions of a tensor.\n",
    "* **Rank**: Number of tensor dimensions.  A scalar has rank 0, a vector has rank 1, a matrix is rank 2.\n",
    "* **Axis** or **Dimension**: A particular dimension of a tensor.\n",
    "* **Size**: The total number of items in the tensor, the product shape vector\n"
   ]
  },
  {
   "cell_type": "markdown",
   "metadata": {
    "colab_type": "text",
    "id": "E9L3-kCQq2f6"
   },
   "source": [
    "Note: Although you may see reference to a \"tensor of two dimensions\", a rank-2 tensor does not usually describe a 2D space."
   ]
  },
  {
   "cell_type": "markdown",
   "metadata": {
    "colab_type": "text",
    "id": "VFOyG2tn8LhW"
   },
   "source": [
    "Tensors and `tf.TensorShape` objects have convenient properties for accessing these:"
   ]
  },
  {
   "cell_type": "code",
   "execution_count": null,
   "metadata": {
    "colab": {},
    "colab_type": "code",
    "id": "RyD3yewUKdnK"
   },
   "outputs": [],
   "source": [
    "rank_4_tensor = tf.zeros([3, 2, 4, 5])"
   ]
  },
  {
   "cell_type": "markdown",
   "metadata": {
    "colab_type": "text",
    "id": "oTZZW9ziq4og"
   },
   "source": [
    "<table>\n",
    "<tr>\n",
    "  <th colspan=2>A rank-4 tensor, shape: <code>[3, 2, 4, 5]</code></th>\n",
    "</tr>\n",
    "<tr>\n",
    "  <td>\n",
    "<img src=\"https://github.com/tensorflow/docs/blob/master/site/en/guide/images/tensor/shape.png?raw=1\" alt=\"A tensor shape is like a vector.\">\n",
    "    <td>\n",
    "<img src=\"https://github.com/tensorflow/docs/blob/master/site/en/guide/images/tensor/4-axis_block.png?raw=1\" alt=\"A 4-axis tensor\">\n",
    "  </td>\n",
    "  </tr>\n",
    "</table>\n"
   ]
  },
  {
   "cell_type": "code",
   "execution_count": null,
   "metadata": {
    "colab": {
     "base_uri": "https://localhost:8080/",
     "height": 119
    },
    "colab_type": "code",
    "id": "MHm9vSqogsBk",
    "outputId": "6cb8cf6a-3ebc-4960-8d1e-5fa5d3b980ac"
   },
   "outputs": [
    {
     "name": "stdout",
     "output_type": "stream",
     "text": [
      "Type of every element: <dtype: 'float32'>\n",
      "Number of dimensions: 4\n",
      "Shape of tensor: (3, 2, 4, 5)\n",
      "Elements along axis 0 of tensor: 3\n",
      "Elements along the last axis of tensor: 5\n",
      "Total number of elements (3*2*4*5):  120\n"
     ]
    }
   ],
   "source": [
    "print(\"Type of every element:\", rank_4_tensor.dtype)\n",
    "print(\"Number of dimensions:\", rank_4_tensor.ndim)\n",
    "print(\"Shape of tensor:\", rank_4_tensor.shape)\n",
    "print(\"Elements along axis 0 of tensor:\", rank_4_tensor.shape[0])\n",
    "print(\"Elements along the last axis of tensor:\", rank_4_tensor.shape[-1])\n",
    "print(\"Total number of elements (3*2*4*5): \", tf.size(rank_4_tensor).numpy())"
   ]
  },
  {
   "cell_type": "markdown",
   "metadata": {
    "colab_type": "text",
    "id": "bQmE_Vx5JilS"
   },
   "source": [
    "While axes are often referred to by their indices, you should always keep track of the meaning of each.\n",
    "<table>\n",
    "<tr>\n",
    "<th>Typical axis order</th>\n",
    "</tr>\n",
    "<tr>\n",
    "    <td>\n",
    "<img src=\"https://github.com/tensorflow/docs/blob/master/site/en/guide/images/tensor/shape2.png?raw=1\" alt=\"Keep track of what each axis is. A 4-axis tensor might be: Batch, Width, Height, Freatures\">\n",
    "  </td>\n",
    "</tr>\n",
    "</table>"
   ]
  },
  {
   "cell_type": "markdown",
   "metadata": {
    "colab_type": "text",
    "id": "FlPoVvJS75Bb"
   },
   "source": [
    "## Indexing"
   ]
  },
  {
   "cell_type": "markdown",
   "metadata": {
    "colab_type": "text",
    "id": "apOkCKqCZIZu"
   },
   "source": [
    "### Single-axis indexing\n",
    "\n",
    "TensorFlow follows standard Python indexing rules, similar to [indexing a list or a string in Python](https://docs.python.org/3/tutorial/introduction.html#strings), and the basic rules for NumPy indexing.\n",
    "\n",
    "* indexes start at `0`\n",
    "* negative indices count backwards from the end\n",
    "* colons, `:`, are used for slices: `start:stop:step`\n"
   ]
  },
  {
   "cell_type": "code",
   "execution_count": null,
   "metadata": {
    "colab": {
     "base_uri": "https://localhost:8080/",
     "height": 34
    },
    "colab_type": "code",
    "id": "SQ-CrJxLXTIM",
    "outputId": "39174607-f0a5-4bb8-8e02-243ef22175c1"
   },
   "outputs": [
    {
     "name": "stdout",
     "output_type": "stream",
     "text": [
      "[ 0  1  1  2  3  5  8 13 21 34]\n"
     ]
    }
   ],
   "source": [
    "rank_1_tensor = tf.constant([0, 1, 1, 2, 3, 5, 8, 13, 21, 34])\n",
    "print(rank_1_tensor.numpy())"
   ]
  },
  {
   "cell_type": "markdown",
   "metadata": {
    "colab_type": "text",
    "id": "mQYYL56PXSak"
   },
   "source": [
    "Indexing with a scalar removes the dimension:"
   ]
  },
  {
   "cell_type": "code",
   "execution_count": null,
   "metadata": {
    "colab": {
     "base_uri": "https://localhost:8080/",
     "height": 68
    },
    "colab_type": "code",
    "id": "n6tqHciOWMt5",
    "outputId": "27121896-1df9-47b0-affd-872e1d11acd0"
   },
   "outputs": [
    {
     "name": "stdout",
     "output_type": "stream",
     "text": [
      "First: 0\n",
      "Second: 1\n",
      "Last: 34\n"
     ]
    }
   ],
   "source": [
    "print(\"First:\", rank_1_tensor[0].numpy())\n",
    "print(\"Second:\", rank_1_tensor[1].numpy())\n",
    "print(\"Last:\", rank_1_tensor[-1].numpy())"
   ]
  },
  {
   "cell_type": "markdown",
   "metadata": {
    "colab_type": "text",
    "id": "qJLHU_a2XwpG"
   },
   "source": [
    "Indexing with a `:` slice keeps the dimension:"
   ]
  },
  {
   "cell_type": "code",
   "execution_count": null,
   "metadata": {
    "colab": {
     "base_uri": "https://localhost:8080/",
     "height": 119
    },
    "colab_type": "code",
    "id": "giVPPcfQX-cu",
    "outputId": "daad6675-250f-459b-b1a5-f4152ea565f0"
   },
   "outputs": [
    {
     "name": "stdout",
     "output_type": "stream",
     "text": [
      "Everything: [ 0  1  1  2  3  5  8 13 21 34]\n",
      "Before 4: [0 1 1 2]\n",
      "From 4 to the end: [ 3  5  8 13 21 34]\n",
      "From 2, before 7: [1 2 3 5 8]\n",
      "Every other item: [ 0  1  3  8 21]\n",
      "Reversed: [34 21 13  8  5  3  2  1  1  0]\n"
     ]
    }
   ],
   "source": [
    "print(\"Everything:\", rank_1_tensor[:].numpy())\n",
    "print(\"Before 4:\", rank_1_tensor[:4].numpy())\n",
    "print(\"From 4 to the end:\", rank_1_tensor[4:].numpy())\n",
    "print(\"From 2, before 7:\", rank_1_tensor[2:7].numpy())\n",
    "print(\"Every other item:\", rank_1_tensor[::2].numpy())\n",
    "print(\"Reversed:\", rank_1_tensor[::-1].numpy())"
   ]
  },
  {
   "cell_type": "markdown",
   "metadata": {
    "colab_type": "text",
    "id": "elDSxXi7X-Bh"
   },
   "source": [
    "### Multi-axis indexing"
   ]
  },
  {
   "cell_type": "markdown",
   "metadata": {
    "colab_type": "text",
    "id": "Cgk0uRUYZiai"
   },
   "source": [
    "Higher rank tensors are indexed by passing multiple indices.\n",
    "\n",
    "The single-axis exact same rules as in  the single-axis case apply to each axis independently."
   ]
  },
  {
   "cell_type": "code",
   "execution_count": null,
   "metadata": {
    "colab": {
     "base_uri": "https://localhost:8080/",
     "height": 68
    },
    "colab_type": "code",
    "id": "Tc5X_WlsZXmd",
    "outputId": "86e43d68-a027-4c97-ea04-6cdb4a9a0439"
   },
   "outputs": [
    {
     "name": "stdout",
     "output_type": "stream",
     "text": [
      "[[1. 2.]\n",
      " [3. 4.]\n",
      " [5. 6.]]\n"
     ]
    }
   ],
   "source": [
    "print(rank_2_tensor.numpy())"
   ]
  },
  {
   "cell_type": "markdown",
   "metadata": {
    "colab_type": "text",
    "id": "w07U9vq5ipQk"
   },
   "source": [
    "Passing an integer for each index the result is a scalar."
   ]
  },
  {
   "cell_type": "code",
   "execution_count": null,
   "metadata": {
    "colab": {
     "base_uri": "https://localhost:8080/",
     "height": 34
    },
    "colab_type": "code",
    "id": "PvILXc1PjqTM",
    "outputId": "2b8a07aa-4268-4de6-bff8-b840a41d6494"
   },
   "outputs": [
    {
     "name": "stdout",
     "output_type": "stream",
     "text": [
      "4.0\n"
     ]
    }
   ],
   "source": [
    "# Pull out a single value from a 2-rank tensor\n",
    "print(rank_2_tensor[1, 1].numpy())"
   ]
  },
  {
   "cell_type": "markdown",
   "metadata": {
    "colab_type": "text",
    "id": "3RLCzAOHjfEH"
   },
   "source": [
    "You can index using any combination of integers and slices:"
   ]
  },
  {
   "cell_type": "code",
   "execution_count": null,
   "metadata": {
    "colab": {
     "base_uri": "https://localhost:8080/",
     "height": 153
    },
    "colab_type": "code",
    "id": "YTqNqsfJkJP_",
    "outputId": "24d514dd-8814-42b7-88b9-559de9bb40a2"
   },
   "outputs": [
    {
     "name": "stdout",
     "output_type": "stream",
     "text": [
      "Second row: [3. 4.]\n",
      "Second column: [2. 4. 6.]\n",
      "Last row: [5. 6.]\n",
      "First item in last column: 2.0\n",
      "Skip the first row:\n",
      "[[3. 4.]\n",
      " [5. 6.]] \n",
      "\n"
     ]
    }
   ],
   "source": [
    "# Get row and column tensors\n",
    "print(\"Second row:\", rank_2_tensor[1, :].numpy())\n",
    "print(\"Second column:\", rank_2_tensor[:, 1].numpy())\n",
    "print(\"Last row:\", rank_2_tensor[-1, :].numpy())\n",
    "print(\"First item in last column:\", rank_2_tensor[0, -1].numpy())\n",
    "print(\"Skip the first row:\")\n",
    "print(rank_2_tensor[1:, :].numpy(), \"\\n\")"
   ]
  },
  {
   "cell_type": "markdown",
   "metadata": {
    "colab_type": "text",
    "id": "P45TwSUVSK6G"
   },
   "source": [
    "Here is an example with a 3-axis tensor:"
   ]
  },
  {
   "cell_type": "code",
   "execution_count": null,
   "metadata": {
    "colab": {
     "base_uri": "https://localhost:8080/",
     "height": 85
    },
    "colab_type": "code",
    "id": "GuLoMoCVSLxK",
    "outputId": "4e699901-db5d-42b2-867e-1331d4f21f06"
   },
   "outputs": [
    {
     "name": "stdout",
     "output_type": "stream",
     "text": [
      "tf.Tensor(\n",
      "[[ 4  9]\n",
      " [14 19]\n",
      " [24 29]], shape=(3, 2), dtype=int32)\n"
     ]
    }
   ],
   "source": [
    "print(rank_3_tensor[:, :, 4])"
   ]
  },
  {
   "cell_type": "markdown",
   "metadata": {
    "colab_type": "text",
    "id": "9NgmHq27TJOE"
   },
   "source": [
    "<table>\n",
    "<tr>\n",
    "<th colspan=2>Selecting the last feature across all locations in each example in the batch </th>\n",
    "</tr>\n",
    "<tr>\n",
    "    <td>\n",
    "<img src=\"https://github.com/tensorflow/docs/blob/master/site/en/guide/images/tensor/index1.png?raw=1\" alt=\"A 3x2x5 tensor with all the values at the index-4 of the last axis selected.\">\n",
    "  </td>\n",
    "      <td>\n",
    "<img src=\"https://github.com/tensorflow/docs/blob/master/site/en/guide/images/tensor/index2.png?raw=1\" alt=\"The selected values packed into a 2-axis tensor.\">\n",
    "  </td>\n",
    "</tr>\n",
    "</table>"
   ]
  },
  {
   "cell_type": "markdown",
   "metadata": {
    "colab_type": "text",
    "id": "fpr7R0t4SVb0"
   },
   "source": [
    "## Manipulating Shapes\n",
    "\n",
    "Reshaping a tensor is of great utility. \n",
    "\n"
   ]
  },
  {
   "cell_type": "code",
   "execution_count": null,
   "metadata": {
    "colab": {
     "base_uri": "https://localhost:8080/",
     "height": 34
    },
    "colab_type": "code",
    "id": "EMeTtga5Wq8j",
    "outputId": "1a085291-9e33-4997-982f-73ce0d8bf855"
   },
   "outputs": [
    {
     "name": "stdout",
     "output_type": "stream",
     "text": [
      "(3, 1)\n"
     ]
    }
   ],
   "source": [
    "# Shape returns a `TensorShape` object that shows the size on each dimension\n",
    "var_x = tf.Variable(tf.constant([[1], [2], [3]]))\n",
    "print(var_x.shape)"
   ]
  },
  {
   "cell_type": "code",
   "execution_count": null,
   "metadata": {
    "colab": {
     "base_uri": "https://localhost:8080/",
     "height": 34
    },
    "colab_type": "code",
    "id": "38jc2RXziT3W",
    "outputId": "50839cab-d710-41bd-aa1c-a2a7607045aa"
   },
   "outputs": [
    {
     "name": "stdout",
     "output_type": "stream",
     "text": [
      "[3, 1]\n"
     ]
    }
   ],
   "source": [
    "# You can convert this object into a Python list, too\n",
    "print(var_x.shape.as_list())"
   ]
  },
  {
   "cell_type": "markdown",
   "metadata": {
    "colab_type": "text",
    "id": "J_xRlHZMKYnF"
   },
   "source": [
    "You can reshape a tensor into a new shape. The `tf.reshape` operation is fast and cheap as the underlying data does not need to be duplicated."
   ]
  },
  {
   "cell_type": "code",
   "execution_count": null,
   "metadata": {
    "colab": {},
    "colab_type": "code",
    "id": "pa9JCgMLWy87"
   },
   "outputs": [],
   "source": [
    "# We can reshape a tensor to a new shape.\n",
    "# Note that we're passing in a list\n",
    "reshaped = tf.reshape(var_x, [1, 3])"
   ]
  },
  {
   "cell_type": "code",
   "execution_count": null,
   "metadata": {
    "colab": {
     "base_uri": "https://localhost:8080/",
     "height": 51
    },
    "colab_type": "code",
    "id": "Mcq7iXOkW3LK",
    "outputId": "9d162561-e9d5-44f7-8615-632e86ca1642"
   },
   "outputs": [
    {
     "name": "stdout",
     "output_type": "stream",
     "text": [
      "(3, 1)\n",
      "(1, 3)\n"
     ]
    }
   ],
   "source": [
    "print(var_x.shape)\n",
    "print(reshaped.shape)"
   ]
  },
  {
   "cell_type": "markdown",
   "metadata": {
    "colab_type": "text",
    "id": "gIB2tOkoVr6E"
   },
   "source": [
    "The data maintains its layout in memory and a new tensor is created, with the requested shape, pointing to the same data. TensorFlow uses C-style \"row-major\" memory ordering, where incrementing the rightmost index corresponds to a single step in memory."
   ]
  },
  {
   "cell_type": "code",
   "execution_count": null,
   "metadata": {
    "colab": {
     "base_uri": "https://localhost:8080/",
     "height": 170
    },
    "colab_type": "code",
    "id": "7kMfM0RpUgI8",
    "outputId": "f3c5ebbd-6ec3-4e8b-c8be-e87e7f9ed1d6"
   },
   "outputs": [
    {
     "name": "stdout",
     "output_type": "stream",
     "text": [
      "tf.Tensor(\n",
      "[[[ 0  1  2  3  4]\n",
      "  [ 5  6  7  8  9]]\n",
      "\n",
      " [[10 11 12 13 14]\n",
      "  [15 16 17 18 19]]\n",
      "\n",
      " [[20 21 22 23 24]\n",
      "  [25 26 27 28 29]]], shape=(3, 2, 5), dtype=int32)\n"
     ]
    }
   ],
   "source": [
    "print(rank_3_tensor)"
   ]
  },
  {
   "cell_type": "markdown",
   "metadata": {
    "colab_type": "text",
    "id": "TcDtfQkJWzIx"
   },
   "source": [
    "If you flatten a tensor you can see what order it is laid out in memory."
   ]
  },
  {
   "cell_type": "code",
   "execution_count": null,
   "metadata": {
    "colab": {
     "base_uri": "https://localhost:8080/",
     "height": 68
    },
    "colab_type": "code",
    "id": "COnHEPuaWDQp",
    "outputId": "11754747-bd51-40b8-9b99-79e52c3a2416"
   },
   "outputs": [
    {
     "name": "stdout",
     "output_type": "stream",
     "text": [
      "tf.Tensor(\n",
      "[ 0  1  2  3  4  5  6  7  8  9 10 11 12 13 14 15 16 17 18 19 20 21 22 23\n",
      " 24 25 26 27 28 29], shape=(30,), dtype=int32)\n"
     ]
    }
   ],
   "source": [
    "# A `-1` passed in the `shape` argument says \"Whatever fits\".\n",
    "print(tf.reshape(rank_3_tensor, [-1]))"
   ]
  },
  {
   "cell_type": "markdown",
   "metadata": {
    "colab_type": "text",
    "id": "jJZRira2W--c"
   },
   "source": [
    "Typically the only reasonable uses of `tf.reshape` are to combine or split adjacent axes (or add/remove `1`s).\n",
    "\n",
    "For this 3x2x5 tensor, reshaping to (3x2)x5 or 3x(2x5) are both reasonable things to do, as the slices do not mix:"
   ]
  },
  {
   "cell_type": "code",
   "execution_count": null,
   "metadata": {
    "colab": {
     "base_uri": "https://localhost:8080/",
     "height": 221
    },
    "colab_type": "code",
    "id": "zP2Iqc7zWu_J",
    "outputId": "68df6128-a530-4dfc-d7d8-0431735ff31f"
   },
   "outputs": [
    {
     "name": "stdout",
     "output_type": "stream",
     "text": [
      "tf.Tensor(\n",
      "[[ 0  1  2  3  4]\n",
      " [ 5  6  7  8  9]\n",
      " [10 11 12 13 14]\n",
      " [15 16 17 18 19]\n",
      " [20 21 22 23 24]\n",
      " [25 26 27 28 29]], shape=(6, 5), dtype=int32) \n",
      "\n",
      "tf.Tensor(\n",
      "[[ 0  1  2  3  4  5  6  7  8  9]\n",
      " [10 11 12 13 14 15 16 17 18 19]\n",
      " [20 21 22 23 24 25 26 27 28 29]], shape=(3, 10), dtype=int32)\n"
     ]
    }
   ],
   "source": [
    "print(tf.reshape(rank_3_tensor, [3*2, 5]), \"\\n\")\n",
    "print(tf.reshape(rank_3_tensor, [3, -1]))"
   ]
  },
  {
   "cell_type": "markdown",
   "metadata": {
    "colab_type": "text",
    "id": "6ZsZRUhihlDB"
   },
   "source": [
    "<table>\n",
    "<th colspan=3>\n",
    "Some good reshapes.\n",
    "</th>\n",
    "<tr>\n",
    "  <td>\n",
    "<img src=\"https://github.com/tensorflow/docs/blob/master/site/en/guide/images/tensor/reshape-before.png?raw=1\" alt=\"A 3x2x5 tensor\">\n",
    "  </td>\n",
    "  <td>\n",
    "  <img src=\"https://github.com/tensorflow/docs/blob/master/site/en/guide/images/tensor/reshape-good1.png?raw=1\" alt=\"The same data reshaped to (3x2)x5\">\n",
    "  </td>\n",
    "  <td>\n",
    "<img src=\"https://github.com/tensorflow/docs/blob/master/site/en/guide/images/tensor/reshape-good2.png?raw=1\" alt=\"The same data reshaped to 3x(2x5)\">\n",
    "  </td>\n",
    "</tr>\n",
    "</table>\n"
   ]
  },
  {
   "cell_type": "markdown",
   "metadata": {
    "colab_type": "text",
    "id": "nOcRxDC3jNIU"
   },
   "source": [
    "Reshaping will \"work\" for any new shape with the same total number of elements, but it will not do anything useful if you do not respect the order of the axes.\n",
    "\n",
    "Swapping axes in `tf.reshape` does not work, you need `tf.transpose` for that. \n"
   ]
  },
  {
   "cell_type": "code",
   "execution_count": null,
   "metadata": {
    "colab": {
     "base_uri": "https://localhost:8080/",
     "height": 289
    },
    "colab_type": "code",
    "id": "I9qDL_8u7cBH",
    "outputId": "da480074-5219-4d0a-ebfb-4efd1703cedf"
   },
   "outputs": [
    {
     "name": "stdout",
     "output_type": "stream",
     "text": [
      "tf.Tensor(\n",
      "[[[ 0  1  2  3  4]\n",
      "  [ 5  6  7  8  9]\n",
      "  [10 11 12 13 14]]\n",
      "\n",
      " [[15 16 17 18 19]\n",
      "  [20 21 22 23 24]\n",
      "  [25 26 27 28 29]]], shape=(2, 3, 5), dtype=int32) \n",
      "\n",
      "tf.Tensor(\n",
      "[[ 0  1  2  3  4  5]\n",
      " [ 6  7  8  9 10 11]\n",
      " [12 13 14 15 16 17]\n",
      " [18 19 20 21 22 23]\n",
      " [24 25 26 27 28 29]], shape=(5, 6), dtype=int32) \n",
      "\n"
     ]
    }
   ],
   "source": [
    "# Bad examples: don't do this\n",
    "\n",
    "# You can't reorder axes with reshape.\n",
    "print(tf.reshape(rank_3_tensor, [2, 3, 5]), \"\\n\") \n",
    "\n",
    "# This is a mess\n",
    "print(tf.reshape(rank_3_tensor, [5, 6]), \"\\n\")"
   ]
  },
  {
   "cell_type": "markdown",
   "metadata": {
    "colab_type": "text",
    "id": "qTM9-5eh68oo"
   },
   "source": [
    "<table>\n",
    "<th colspan=3>\n",
    "Some bad reshapes.\n",
    "</th>\n",
    "<tr>\n",
    "  <td>\n",
    "<img src=\"https://github.com/tensorflow/docs/blob/master/site/en/guide/images/tensor/reshape-bad.png?raw=1\" alt=\"You can't reorder axes, use tf.transpose for that\">\n",
    "  </td>\n",
    "  <td>\n",
    "<img src=\"https://github.com/tensorflow/docs/blob/master/site/en/guide/images/tensor/reshape-bad4.png?raw=1\" alt=\"Anything that mixes the slices of data together is probably wrong.\">\n",
    "  </td>\n",
    "  <td>\n",
    "<img src=\"https://github.com/tensorflow/docs/blob/master/site/en/guide/images/tensor/reshape-bad2.png?raw=1\" alt=\"The new shape must fit exactly.\">\n",
    "  </td>\n",
    "</tr>\n",
    "</table>"
   ]
  },
  {
   "cell_type": "markdown",
   "metadata": {
    "colab_type": "text",
    "id": "N9r90BvHCbTt"
   },
   "source": [
    "You may run across not-fully-specified shapes. Either the shape contains a `None` (a dimension's length is unknown) or the shape is `None` (the rank of the tensor is unknown).\n"
   ]
  },
  {
   "cell_type": "markdown",
   "metadata": {
    "colab_type": "text",
    "id": "fDmFtFM7k0R2"
   },
   "source": [
    "## More on `DTypes`\n",
    "\n",
    "To inspect a `tf.Tensor`'s data type use the `Tensor.dtype` property.\n",
    "\n",
    "When creating a `tf.Tensor` from a Python object you may optionally specify the datatype.\n",
    "\n",
    "If you don't, TensorFlow chooses a datatype that can represent your data. TensorFlow converts Python integers to `tf.int32` and Python floating point numbers to `tf.float32`. Otherwise TensorFlow uses the same rules NumPy uses when converting to arrays.\n",
    "\n",
    "You can cast from type to type."
   ]
  },
  {
   "cell_type": "code",
   "execution_count": null,
   "metadata": {
    "colab": {
     "base_uri": "https://localhost:8080/",
     "height": 34
    },
    "colab_type": "code",
    "id": "5mSTDWbelUvu",
    "outputId": "00901f68-b737-479d-e5e5-12cea396b662"
   },
   "outputs": [
    {
     "name": "stdout",
     "output_type": "stream",
     "text": [
      "tf.Tensor([2 3 4], shape=(3,), dtype=uint8)\n"
     ]
    }
   ],
   "source": [
    "the_f64_tensor = tf.constant([2.2, 3.3, 4.4], dtype=tf.float64)\n",
    "the_f16_tensor = tf.cast(the_f64_tensor, dtype=tf.float16)\n",
    "# Now, cast to an uint8 and lose the decimal precision\n",
    "the_u8_tensor = tf.cast(the_f16_tensor, dtype=tf.uint8)\n",
    "print(the_u8_tensor)"
   ]
  },
  {
   "cell_type": "markdown",
   "metadata": {
    "colab_type": "text",
    "id": "o4Rpz0xAsKSI"
   },
   "source": [
    "## tf.convert_to_tensor\n",
    "\n",
    "Most object classes like NumPy's `ndarray`, `TensorShape`, Python lists, and `tf.Variable` will all get converted to Tensor automatically."
   ]
  },
  {
   "cell_type": "markdown",
   "metadata": {
    "colab_type": "text",
    "id": "trXNI6edBYGm"
   },
   "source": [
    "## Reference\n",
    "https://www.tensorflow.org/guide/tensor"
   ]
  }
 ],
 "metadata": {
  "colab": {
   "collapsed_sections": [],
   "include_colab_link": true,
   "name": "DL_Day3_Optional.ipynb",
   "provenance": []
  },
  "kernelspec": {
   "display_name": "Python 3",
   "language": "python",
   "name": "python3"
  },
  "language_info": {
   "codemirror_mode": {
    "name": "ipython",
    "version": 3
   },
   "file_extension": ".py",
   "mimetype": "text/x-python",
   "name": "python",
   "nbconvert_exporter": "python",
   "pygments_lexer": "ipython3",
   "version": "3.8.3"
  }
 },
 "nbformat": 4,
 "nbformat_minor": 1
}
